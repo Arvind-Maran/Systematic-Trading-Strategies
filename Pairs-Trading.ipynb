{
 "cells": [
  {
   "cell_type": "markdown",
   "id": "96ce62a5",
   "metadata": {},
   "source": [
    "## Investigating a Pairs Trading Strategy\n",
    "\n",
    "Pairs Trading is a mean reversion strategy that uses the idea that if two simillar moving stocks divert from their usual trend, they should theoretically move back to their average. There are many ways to do this, in this script we will be using the ratio between their daily percentage change to determine the mean; however, many others just use price data which is another option we can eventually test. \n",
    "\n",
    "To backtest this strategy, we will use data from the Yahoo Finance API and structure the data using Pandas. "
   ]
  },
  {
   "cell_type": "code",
   "execution_count": 118,
   "id": "b7930de7",
   "metadata": {
    "scrolled": false
   },
   "outputs": [
    {
     "name": "stdout",
     "output_type": "stream",
     "text": [
      "Requirement already satisfied: yfinance in /Users/arvindmaran/opt/anaconda3/lib/python3.9/site-packages (0.2.3)\n",
      "Requirement already satisfied: lxml>=4.9.1 in /Users/arvindmaran/opt/anaconda3/lib/python3.9/site-packages (from yfinance) (4.9.1)\n",
      "Requirement already satisfied: cryptography>=3.3.2 in /Users/arvindmaran/opt/anaconda3/lib/python3.9/site-packages (from yfinance) (37.0.1)\n",
      "Requirement already satisfied: pandas>=1.3.0 in /Users/arvindmaran/opt/anaconda3/lib/python3.9/site-packages (from yfinance) (1.4.4)\n",
      "Requirement already satisfied: pytz>=2022.5 in /Users/arvindmaran/opt/anaconda3/lib/python3.9/site-packages (from yfinance) (2022.7)\n",
      "Requirement already satisfied: html5lib>=1.1 in /Users/arvindmaran/opt/anaconda3/lib/python3.9/site-packages (from yfinance) (1.1)\n",
      "Requirement already satisfied: appdirs>=1.4.4 in /Users/arvindmaran/opt/anaconda3/lib/python3.9/site-packages (from yfinance) (1.4.4)\n",
      "Requirement already satisfied: requests>=2.26 in /Users/arvindmaran/opt/anaconda3/lib/python3.9/site-packages (from yfinance) (2.28.1)\n",
      "Requirement already satisfied: frozendict>=2.3.4 in /Users/arvindmaran/opt/anaconda3/lib/python3.9/site-packages (from yfinance) (2.3.4)\n",
      "Requirement already satisfied: numpy>=1.16.5 in /Users/arvindmaran/opt/anaconda3/lib/python3.9/site-packages (from yfinance) (1.21.5)\n",
      "Requirement already satisfied: multitasking>=0.0.7 in /Users/arvindmaran/opt/anaconda3/lib/python3.9/site-packages (from yfinance) (0.0.11)\n",
      "Requirement already satisfied: beautifulsoup4>=4.11.1 in /Users/arvindmaran/opt/anaconda3/lib/python3.9/site-packages (from yfinance) (4.11.1)\n",
      "Requirement already satisfied: soupsieve>1.2 in /Users/arvindmaran/opt/anaconda3/lib/python3.9/site-packages (from beautifulsoup4>=4.11.1->yfinance) (2.3.1)\n",
      "Requirement already satisfied: cffi>=1.12 in /Users/arvindmaran/opt/anaconda3/lib/python3.9/site-packages (from cryptography>=3.3.2->yfinance) (1.15.1)\n",
      "Requirement already satisfied: webencodings in /Users/arvindmaran/opt/anaconda3/lib/python3.9/site-packages (from html5lib>=1.1->yfinance) (0.5.1)\n",
      "Requirement already satisfied: six>=1.9 in /Users/arvindmaran/opt/anaconda3/lib/python3.9/site-packages (from html5lib>=1.1->yfinance) (1.16.0)\n",
      "Requirement already satisfied: python-dateutil>=2.8.1 in /Users/arvindmaran/opt/anaconda3/lib/python3.9/site-packages (from pandas>=1.3.0->yfinance) (2.8.2)\n",
      "Requirement already satisfied: certifi>=2017.4.17 in /Users/arvindmaran/opt/anaconda3/lib/python3.9/site-packages (from requests>=2.26->yfinance) (2022.9.24)\n",
      "Requirement already satisfied: urllib3<1.27,>=1.21.1 in /Users/arvindmaran/opt/anaconda3/lib/python3.9/site-packages (from requests>=2.26->yfinance) (1.26.11)\n",
      "Requirement already satisfied: charset-normalizer<3,>=2 in /Users/arvindmaran/opt/anaconda3/lib/python3.9/site-packages (from requests>=2.26->yfinance) (2.0.4)\n",
      "Requirement already satisfied: idna<4,>=2.5 in /Users/arvindmaran/opt/anaconda3/lib/python3.9/site-packages (from requests>=2.26->yfinance) (3.3)\n",
      "Requirement already satisfied: pycparser in /Users/arvindmaran/opt/anaconda3/lib/python3.9/site-packages (from cffi>=1.12->cryptography>=3.3.2->yfinance) (2.21)\n"
     ]
    }
   ],
   "source": [
    "#Installing all Libraries Needed\n",
    "!pip install yfinance\n",
    "import yfinance as yf\n",
    "import pandas as pd\n",
    "import numpy as np"
   ]
  },
  {
   "cell_type": "markdown",
   "id": "6cfae749",
   "metadata": {},
   "source": [
    "We will need to get historical data from YFinance in two different sections. We need data to calculate the statistical values that our strategy is based off (get_p_data), and then we need data to backtest that strategy on to see how well it performs (get_b_data). "
   ]
  },
  {
   "cell_type": "code",
   "execution_count": 119,
   "id": "9da46e05",
   "metadata": {},
   "outputs": [],
   "source": [
    "def get_p_data(stock): \n",
    "    stock = yf.Ticker(stock)\n",
    "    stockhist = pd.DataFrame(stock.history(period='340d'))\n",
    "    split = int(len(stockhist)/2)\n",
    "    stockhist = stockhist[:split]\n",
    "    return stockhist\n",
    "def get_b_data(stock): \n",
    "    stock = yf.Ticker(stock)\n",
    "    stockhist = pd.DataFrame(stock.history(period='340d'))\n",
    "    split = int(len(stockhist)/2)\n",
    "    stockhist = stockhist[split:]\n",
    "    return stockhist"
   ]
  },
  {
   "cell_type": "markdown",
   "id": "3d580793",
   "metadata": {},
   "source": [
    "Next, we need the ratios in their percent change for every day."
   ]
  },
  {
   "cell_type": "code",
   "execution_count": 120,
   "id": "f9d84ec8",
   "metadata": {},
   "outputs": [],
   "source": [
    " def calc_ratios(stock1,stock2,porb='P'):\n",
    "    if porb == 'B':\n",
    "        stock1hist = get_b_data(stock1)\n",
    "        stock2hist = get_b_data(stock2)\n",
    "    else:\n",
    "        stock1hist = get_p_data(stock1)\n",
    "        stock2hist = get_p_data(stock2)\n",
    "    pct_change = pd.DataFrame()\n",
    "    name1 = stock1 + ' Change'\n",
    "    name2 = stock2 + ' Change'\n",
    "    pct_change[name1] = stock1hist['Close'].pct_change()\n",
    "    pct_change[name2] = stock2hist['Close'].pct_change()\n",
    "    pct_change['Ratio'] = np.divide(pct_change[name1], pct_change[name2])\n",
    "    return pct_change.drop(pct_change.index[0])"
   ]
  },
  {
   "cell_type": "markdown",
   "id": "02af9f72",
   "metadata": {},
   "source": [
    "This strategy utilizes the average of those ratios and identifies anywhere where that ratio significantly diverts from that average. This part of the script calculates that mean, removes any significant outliers, and then calculates the mean again with the cleaner data, along with the upper and lower boundraies that identify the diversions.  "
   ]
  },
  {
   "cell_type": "code",
   "execution_count": 125,
   "id": "efa63125",
   "metadata": {},
   "outputs": [],
   "source": [
    "def calc_stats(stock1,stock2):\n",
    "    ratios = calc_ratios(stock1, stock2)\n",
    "    maximum = 0 \n",
    "    maxindex = 0\n",
    "    minimum = 1000000\n",
    "    minindex = 0 \n",
    "    \n",
    "#This part of the script removes the largest and smallest ratio, allowing us to base our eventual mean on more accurate data. \n",
    "    for i in range(len(ratios['Ratio'])):\n",
    "        if ratios['Ratio'][i] > maximum:\n",
    "            maximum = ratios['Ratio'][i]\n",
    "            maxindex = i \n",
    "        elif ratios['Ratio'][i] < minimum:\n",
    "            minimum = ratios['Ratio'][i]\n",
    "            minindex = i \n",
    "\n",
    "    ratios=ratios.drop(ratios.index[maxindex])\n",
    "    ratios=ratios.drop(ratios.index[minindex])\n",
    "\n",
    "#Here we are calculating our mean and standard deviations in order to remove any further outliers. \n",
    "    mean = np.average(ratios['Ratio'])\n",
    "    std = (np.std(ratios['Ratio']))\n",
    "    upperstd = mean + std\n",
    "    lowerstd = mean - std\n",
    "    upperout = mean +(1.5*std)\n",
    "    lowerout = mean -(1.5*std)\n",
    "    \n",
    "    ratios = ratios[ratios['Ratio'] < upperout]\n",
    "    ratios = ratios[ratios['Ratio'] > lowerout]\n",
    "    \n",
    "#Once the outliers are removed we can recalculate our more accurate mean as well as out upper and lower boundries for the strategy.  \n",
    "    mean = np.average(ratios['Ratio'])\n",
    "    std = (np.std(ratios['Ratio']))\n",
    "    upperstd = mean + (2.25*std)\n",
    "    lowerstd = mean - (2.25*std)\n",
    "    return (mean,upperstd, lowerstd)"
   ]
  },
  {
   "cell_type": "markdown",
   "id": "f3b93e63",
   "metadata": {},
   "source": [
    "Now that we have our mean, upper bound, and lower bound, we can use those values to backtest if the strategy works, which is what this section of the script does. We will be buying one of the stocks and shorting the other during this backtest and seeing if the result of doing both trades in a profit. \n",
    "\n",
    "*Credits to Aryan Padmanabhan for guiding me on how to simplify this backtesting code "
   ]
  },
  {
   "cell_type": "code",
   "execution_count": 133,
   "id": "27102eb6",
   "metadata": {},
   "outputs": [],
   "source": [
    "def back_testing(stock1, stock2):\n",
    "    pos = \"none\"\n",
    "    win = 0\n",
    "    total = 0\n",
    "    enterTimes = []\n",
    "    enterPrices = []\n",
    "\n",
    "    stock1Data = get_b_data(stock1)\n",
    "    stock2Data = get_b_data(stock2)\n",
    "    ratioData = calc_ratios(stock1,stock2,'B')\n",
    "    statvalues = calc_stats(stock1,stock2)\n",
    "    mean = statvalues[0]\n",
    "    upperstd = statvalues[1]\n",
    "    lowerstd = statvalues[2]\n",
    "    name1 = stock1 + ' Change'\n",
    "    name2 = stock2 + ' Change'\n",
    "\n",
    "    dayData1 = stock1Data[\"Close\"]\n",
    "    dayData2 = stock2Data['Close']\n",
    "    nextData1 = stock1Data[\"Close\"].shift(-4)\n",
    "    nextData2 = stock2Data[\"Close\"].shift(-4)\n",
    "    \n",
    "    buy = []\n",
    "    sell = []\n",
    "    for i in ratioData.index:\n",
    "        if ratioData[name1][i] > ratioData[name2][i] :\n",
    "            sell.append(stock1)\n",
    "            buy.append(stock2)\n",
    "        else:\n",
    "            sell.append(stock2)\n",
    "            buy.append(stock1)\n",
    "    ratioData['Buy']=buy\n",
    "    ratioData['Sell']=sell\n",
    "    \n",
    "    for i in range(len(dayData1.index)-1):\n",
    "        if pos == 'none':\n",
    "            if ratioData['Ratio'][i] > upperstd or ratioData['Ratio'][i] < lowerstd:\n",
    "                pos = 'entered'\n",
    "        elif pos == 'entered':\n",
    "            price1 = dayData1[i]\n",
    "            price2 = dayData2[i]\n",
    "            nextPrice1 = nextData1[i]\n",
    "            nextPrice2 = nextData2[i]\n",
    "            if ratioData['Buy'][i] == stock1:\n",
    "                buy_pct_change = (nextPrice1 - price1)/price1\n",
    "                sell_pct_change = abs(price2-nextPrice2)/price2\n",
    "            else:\n",
    "                buy_pct_change = (nextPrice2 - price2)/price2\n",
    "                sell_pct_change = abs(price1-nextPrice1)/price1\n",
    "            if (buy_pct_change + sell_pct_change) > 0.01:\n",
    "                win += 1\n",
    "                total += 1\n",
    "                pos = 'none'\n",
    "            else:\n",
    "                total += 1\n",
    "                pos = 'none'\n",
    "    try: \n",
    "        winrate = (win/total) * 100 \n",
    "    except:\n",
    "        winrate = 'NA'\n",
    "     \n",
    "    print (f'Strategy Results with {stock1} and {stock2} --  Trades: {win}/{total} | Success Rate: {winrate}%')\n",
    "                \n",
    "            \n",
    "    \n",
    "    "
   ]
  },
  {
   "cell_type": "markdown",
   "id": "0e357c3f",
   "metadata": {},
   "source": [
    "Choosing which pairs to use this strategy with is is a whole different task. Ideally, you want 2 stocks that are simillar but at the same time move differently enough for there to be enough diversions for the strategy to identify as tradiing opportunities. There are ways to identify this using a heat map which is an upgrade that can be made to this strategy in the future. \n",
    "\n",
    "Here are the stocks I chose to test:"
   ]
  },
  {
   "cell_type": "code",
   "execution_count": 142,
   "id": "732bb82f",
   "metadata": {
    "scrolled": true
   },
   "outputs": [
    {
     "name": "stdout",
     "output_type": "stream",
     "text": [
      "Strategy Results with SPY and QQQ --  Trades: 10/18 | Success Rate: 55.55555555555556%\n",
      "Strategy Results with SPY and SLB --  Trades: 16/25 | Success Rate: 64.0%\n",
      "Strategy Results with QQQ and XLE --  Trades: 12/17 | Success Rate: 70.58823529411765%\n",
      "Strategy Results with UNH and AAPL --  Trades: 17/23 | Success Rate: 73.91304347826086%\n",
      "Strategy Results with SPY and XLE --  Trades: 10/12 | Success Rate: 83.33333333333334%\n"
     ]
    }
   ],
   "source": [
    "back_testing('SPY','QQQ')\n",
    "back_testing('SPY','SLB')\n",
    "back_testing('QQQ','XLE')\n",
    "back_testing('UNH','AAPL')\n",
    "back_testing('SPY','XLE')\n",
    "\n"
   ]
  },
  {
   "cell_type": "markdown",
   "id": "9420f72b",
   "metadata": {},
   "source": [
    "Across this specific time frame the script has determined a success rates ranging from 55.5% to 83.3% (mattering on the stocks we are using), which could possibly be profitable in the long term especially in combination with other strategies. However, there are some things we need to take into consideration before considering this viable. \n",
    "\n",
    "1: This strategy heavily relies on a stable market. In times of extremely high volitilty the statistical calulations the strategy currently uses falls apart. This could be fixed with more rigourous statistical models, but right now we must be wary of volitility as a factor. \n",
    "\n",
    "2: This strategy also heavily relies on this time frame of data that we decide to use, both to base our statistical values on as well as the time frame we back test on. In my experimentation, a larger time frame includes data points that aren't relevent enough to the present, and a shorter time frame tens to not inculde enough data to calculate an accurate enough mean. So the time frame I chose to use in this script is basically in a Goldilocks zone which is really finicky and will need to be adjusted over time.\n",
    "\n",
    "## Conclusion\n",
    "Overall, the results don't lead me to confidently conclude that this strategy is a success or a failure as there are too many variable factors, especially in long term implementation. Using Pairs Trading as a way to add an extra layer of confidence to another trading strategy would be better than using this by itself. With more rigourous statistical models and more experimentation I hope to improve this script over time and make a stronger conclusion in the future. "
   ]
  }
 ],
 "metadata": {
  "kernelspec": {
   "display_name": "Python 3 (ipykernel)",
   "language": "python",
   "name": "python3"
  },
  "language_info": {
   "codemirror_mode": {
    "name": "ipython",
    "version": 3
   },
   "file_extension": ".py",
   "mimetype": "text/x-python",
   "name": "python",
   "nbconvert_exporter": "python",
   "pygments_lexer": "ipython3",
   "version": "3.9.13"
  }
 },
 "nbformat": 4,
 "nbformat_minor": 5
}
